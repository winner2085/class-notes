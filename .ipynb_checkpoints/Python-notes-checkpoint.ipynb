{
 "cells": [
  {
   "cell_type": "markdown",
   "id": "075cd8c3-204d-4eac-9d27-f4631ac065a5",
   "metadata": {},
   "source": [
    "# Python Programming: A General Overview\n",
    "***"
   ]
  },
  {
   "cell_type": "markdown",
   "id": "289e3661-1738-4ddd-a9fa-5057340fc712",
   "metadata": {},
   "source": [
    "## Introduction\n",
    "Python is a high-level, interpreted programming language known for its readability and simplicity. It's widely used in various fields like web development, data science, artificial intelligence, and more."
   ]
  },
  {
   "cell_type": "markdown",
   "id": "f423946f-a66d-4c6e-a250-2719fc13487c",
   "metadata": {},
   "source": [
    "## Variables\n",
    "Variables are used to store data values. In Python, you don't need to declare the type of variable explicity."
   ]
  },
  {
   "cell_type": "markdown",
   "id": "cf683337-0600-4920-8473-bed6a144a401",
   "metadata": {},
   "source": [
    "```\n",
    "# Example of variable assignment\n",
    "x = 5              # Integer\n",
    "y = 3.14           # Float\n",
    "name = \"Alice\"     # String\n",
    "```"
   ]
  },
  {
   "cell_type": "markdown",
   "id": "6efc998f-6153-4c08-a973-3ac45a92c692",
   "metadata": {},
   "source": [
    "## Data Types\n",
    "Common data types in Python include:\n"
   ]
  },
  {
   "cell_type": "markdown",
   "id": "13dd8cfe-05f4-4e1a-aead-a61b108d73ad",
   "metadata": {},
   "source": [
    "- __Integers__ (`int`): Whole numbers, e.g. ,`1`, `42`\n",
    "- __Floating-point Numbers__ (`float`): Decimal numbers, e.g., `3.14`, `0.001`\n",
    "- __Strings__ (`str`): Text data, e.g., `\"Hello, World!\"\n",
    "- __Booleans__ (`bool`): Logical values `True` or `False`\n",
    "- __Lists__ (`lists`): Ordered, mutable collections, e.g., `[1, 2, 3]`\n",
    "- __Dictionaries__ (`dict`): Key-value pairs, e.g., `{ \"name\": \"Alice\", \"age\": 25 }`\n",
    "- __Tuples__ (`tuple`): Ordered, immutable collections, e.g., `(1, 2, 3)`\n",
    "- __Sets__ (`set`): Unordered collections of unique itens, e.g., `{1, 2, 3}`"
   ]
  },
  {
   "cell_type": "markdown",
   "id": "a3d74a0b-f28c-4d06-b830-60675577a1df",
   "metadata": {},
   "source": [
    "## Operators\n",
    "### Arithmetic Operators\n",
    "- Addition: `+`\n",
    "- Subtraction: `-`\n",
    "- Multiplication: `*`\n",
    "- Division `/`\n",
    "- Modules (remainder): `%`\n",
    "- Exponentiation: `**`\n",
    "- Floor Division: `//`"
   ]
  },
  {
   "cell_type": "markdown",
   "id": "2c83c568-6a53-4799-8650-dd95334fd010",
   "metadata": {},
   "source": [
    "### Comparison Operators\n",
    "- Equal to: `==`\n",
    "- Not equal to: `!=`\n",
    "- Greater than: `>`\n",
    "- Less than: `<`\n",
    "- Greater than or equal to: `>=`\n",
    "- Less than or equal to: `<=`"
   ]
  },
  {
   "cell_type": "markdown",
   "id": "b7eabcc5-d796-4d15-bfa9-3bee961eb2cb",
   "metadata": {},
   "source": [
    "### Logical Operators\n",
    "- And: `and`\n",
    "- Or: `or`\n",
    "- Not: `not`"
   ]
  },
  {
   "cell_type": "markdown",
   "id": "65deb899-1118-427e-b14c-344dc6e87408",
   "metadata": {},
   "source": [
    "## Control Flow\n",
    "### If Statements\n",
    "Used to execute code based on a condition."
   ]
  },
  {
   "cell_type": "markdown",
   "id": "85d6101a-ccb4-4ef1-af7d-ff293471a8b7",
   "metadata": {},
   "source": [
    "```\n",
    "# Example of an if statement\n",
    "age = 18\n",
    "if age >= 18:\n",
    "    print(\"You are an adult.\")\n",
    "else:\n",
    "    print(\"You are a minor.\")\n",
    "```"
   ]
  },
  {
   "cell_type": "markdown",
   "id": "36dc53e2-c0be-4c14-a435-d8c1e78ac7ed",
   "metadata": {},
   "source": [
    "### Loops\n",
    "Loops are used to repeat a block of code multiple times.\n",
    "#### For Loops\n",
    "Used for iterating over a sequence (like a list or a range). "
   ]
  },
  {
   "cell_type": "markdown",
   "id": "38358ec8-0175-4fe6-b05c-80d9e28f7b3f",
   "metadata": {},
   "source": [
    "```\n",
    "# For Loop example\n",
    "for i in range(5):\n",
    "    print(\"interation\", i)\n",
    "```"
   ]
  },
  {
   "cell_type": "markdown",
   "id": "9b362dd8-14c9-412a-9911-3bf4bbabd1f9",
   "metadata": {},
   "source": [
    "#### While Loops\n",
    "Repeats as long as a condition is true."
   ]
  },
  {
   "cell_type": "markdown",
   "id": "2d3956a9-cd87-46f3-a65a-ce7c15e78b5f",
   "metadata": {},
   "source": [
    "```\n",
    "# While Loop example\n",
    "count = 0\n",
    "while count < 5:\n",
    "    print(\"Count is\", count)\n",
    "    count += 1\n",
    "```"
   ]
  },
  {
   "cell_type": "markdown",
   "id": "36c39253-ad03-4a79-a899-248b936f1ed4",
   "metadata": {},
   "source": [
    "### Lists\n",
    "Lists are ordered, mutable collections of items."
   ]
  },
  {
   "cell_type": "markdown",
   "id": "1ea4ae8e-df15-411b-bccc-d33d2451903d",
   "metadata": {},
   "source": [
    "```\n",
    "# Creating a list\n",
    "fruits = [\"apple\", \"banana\", \"cherry\"]\n",
    "\n",
    "# Accessing List items\n",
    "print(fruits[0]) # Outputs: apple\n",
    "\n",
    "# Modifying List items\n",
    "fruits[1] = \"blueberry\"\n",
    "\n",
    "# Adding items to a list\n",
    "fruits.append(\"date\")\n",
    "\n",
    "# Removing items from a list\n",
    "fruits.remove(\"apple\")\n",
    "```"
   ]
  },
  {
   "cell_type": "markdown",
   "id": "80ddf305-3e98-4eea-9b72-775ad3eedbb8",
   "metadata": {},
   "source": [
    "#### Common List Methods\n",
    "- `append(item)` : Adds an item to the end of the list.\n",
    "- `insert(index, item)` : inserts an item at a specified index.\n",
    "- `remove(item` : Removes the first occurrence of an item.\n",
    "- `pop(index)` : Removes and returns the item at the given index.\n",
    "- `sort()` : Sorts the list.\n",
    "- `reverse()` : Reverses the list."
   ]
  },
  {
   "cell_type": "markdown",
   "id": "e84ca786-6920-47d3-99fc-2e9675eee1c6",
   "metadata": {},
   "source": [
    "## Dictionaries\n",
    "Dictionaries are used to store data values in key-value pairs."
   ]
  },
  {
   "cell_type": "markdown",
   "id": "7c7d3990-e4c0-4f90-96fc-44ab86caf51c",
   "metadata": {},
   "source": [
    "```\n",
    "# Creating a dictionary\n",
    "person = { \"name\": \"Alice\", \"age\": 25 }\n",
    "\n",
    "# Accessing dictionary itens\n",
    "print(person[\"name\"]) # Outputs: Alice\n",
    "\n",
    "# Modifying dictionary items\n",
    "person[\"age\"] = 26\n",
    "\n",
    "# Adding a new key-value pair\n",
    "person[\"city\"] = \"New York\""
   ]
  },
  {
   "cell_type": "markdown",
   "id": "66073371-9058-42eb-ba45-fb86ebfcd0b7",
   "metadata": {},
   "source": [
    "### Common Dictionary Methods\n",
    "- `keys()` : Returns a list of keys.\n",
    "- `values()` : Returns a list of values.\n",
    "- `items()` : Returns a list of key-value pairs.\n",
    "- `get(key)` : Returns the value for the specified key."
   ]
  },
  {
   "cell_type": "markdown",
   "id": "a89b8ff6-e721-492b-ae51-0cf1903ef5ff",
   "metadata": {},
   "source": [
    "## Functions\n",
    "Functions are reusable blocks of code that perform a specific task."
   ]
  },
  {
   "cell_type": "markdown",
   "id": "d5366c66-5f43-446a-9768-f83ec59554d8",
   "metadata": {},
   "source": [
    "```\n",
    "# Defining a function\n",
    "def greet(name):\n",
    "    return f\"Hello, {name}!\"\n",
    "\n",
    "# Calling a function\n",
    "message = greet(\"Alice\")\n",
    "print(message) # Outputs: Hello, Alice!"
   ]
  },
  {
   "cell_type": "markdown",
   "id": "f00b40e1-c3a7-4ab4-961d-1c0b3ffd014c",
   "metadata": {},
   "source": [
    "### Parameters and Arguments\n",
    "Functions can take parameters to work with different values."
   ]
  },
  {
   "cell_type": "markdown",
   "id": "6ff482d4-03b6-495f-8c22-9fb5d1c44e63",
   "metadata": {},
   "source": [
    "```\n",
    "# Function with parameters\n",
    "def add(a, b):\n",
    "    return a + b\n",
    "\n",
    "# Calling the functions with arguments\n",
    "result = add(3, 4)\n",
    "print(result) # Outputs: 7"
   ]
  },
  {
   "cell_type": "markdown",
   "id": "9a292709-7e46-447a-bb4a-4f1e54e1d4ea",
   "metadata": {},
   "source": [
    "## Input and Output\n",
    "### Input\n",
    "Used to get user input from the console.\n",
    "```\n",
    "# Getting user input\n",
    "name = input(\"Enter your name: \")\n",
    "print(f\"Hello, {name}!\")\n",
    "```\n",
    "### Output\n",
    "Used to display information to the console.\n",
    "```\n",
    "# Printing output\n",
    "print(\"Welcome to Python programming!\")\n",
    "```"
   ]
  },
  {
   "cell_type": "markdown",
   "id": "130f673b-124a-4187-b254-f288edd69f43",
   "metadata": {},
   "source": [
    "## Comments\n",
    "Comments are used to explain code and are ignored by the interpreter.\n",
    "- Single-line comment:\n",
    "```\n",
    "# This is a single-line comment\n",
    "```\n",
    "- Multi-line comment:\n",
    "```\n",
    "'''\n",
    "This is a\n",
    "multi-line comment\n",
    "'''\n",
    "```"
   ]
  },
  {
   "cell_type": "markdown",
   "id": "46a1c7b7-36c7-4b3e-a29d-d0ab26450521",
   "metadata": {},
   "source": [
    "## Object-Oriented Programming (OOP)\n",
    "Python supports object-oriented programming, which allows you to create classes and objects.\n",
    "### Classes and Objects\n",
    "- __Class:__ A blueprint for creating objects.\n",
    "- __Object:__ An instance of a class."
   ]
  },
  {
   "cell_type": "markdown",
   "id": "91a8df7c-eb42-4eb5-88cd-c7087dec1f1b",
   "metadata": {},
   "source": [
    "```\n",
    "# Defining a class\n",
    "class Person:\n",
    "    def __init__(self, name, age):\n",
    "        self.name = name\n",
    "        self.age = age\n",
    "    def greet(self):\n",
    "        return f\"Hello, my name is {self.name}.\"\n",
    "# Creating an object\n",
    "person1 = Person(\"Alice\", 25)\n",
    "print(person1.greet()) # Outputs: Hello, my name is Alice.\n",
    "```"
   ]
  }
 ],
 "metadata": {
  "kernelspec": {
   "display_name": "Python 3 (ipykernel)",
   "language": "python",
   "name": "python3"
  },
  "language_info": {
   "codemirror_mode": {
    "name": "ipython",
    "version": 3
   },
   "file_extension": ".py",
   "mimetype": "text/x-python",
   "name": "python",
   "nbconvert_exporter": "python",
   "pygments_lexer": "ipython3",
   "version": "3.12.1"
  }
 },
 "nbformat": 4,
 "nbformat_minor": 5
}

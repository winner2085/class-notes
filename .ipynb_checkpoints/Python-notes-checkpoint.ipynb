{
 "cells": [
  {
   "cell_type": "markdown",
   "id": "075cd8c3-204d-4eac-9d27-f4631ac065a5",
   "metadata": {},
   "source": [
    "# Python Programming: A General Overview\n",
    "***"
   ]
  },
  {
   "cell_type": "markdown",
   "id": "289e3661-1738-4ddd-a9fa-5057340fc712",
   "metadata": {},
   "source": [
    "## Introduction\n",
    "Python is a high-level, interpreted programming language known for its readability and simplicity. It's widely used in various fields like web development, data science, artificial intelligence, and more."
   ]
  },
  {
   "cell_type": "markdown",
   "id": "f423946f-a66d-4c6e-a250-2719fc13487c",
   "metadata": {},
   "source": [
    "## Variables\n",
    "Variables are used to store data values. In Python, you don't need to declare the type of variable explicity."
   ]
  },
  {
   "cell_type": "markdown",
   "id": "cf683337-0600-4920-8473-bed6a144a401",
   "metadata": {},
   "source": [
    "```\n",
    "# Example of variable assignment\n",
    "x = 5              # Integer\n",
    "y = 3.14           # Float\n",
    "name = \"Alice\"     # String\n",
    "```"
   ]
  },
  {
   "cell_type": "markdown",
   "id": "6efc998f-6153-4c08-a973-3ac45a92c692",
   "metadata": {},
   "source": [
    "## Data Types\n",
    "Common data types in Python include:\n"
   ]
  },
  {
   "cell_type": "markdown",
   "id": "13dd8cfe-05f4-4e1a-aead-a61b108d73ad",
   "metadata": {},
   "source": [
    "- __Integers__ (`int`): Whole numbers, e.g. ,`1`, `42`\n",
    "- __Floating-point Numbers__ (`float`): Decimal numbers, e.g., `3.14`, `0.001`\n",
    "- __Strings__ (`str`): Text data, e.g., `\"Hello, World!\"\n",
    "- __Booleans__ (`bool`): Logical values `True` or `False`\n",
    "- __Lists__ (`lists`): Ordered, mutable collections, e.g., `[1, 2, 3]`\n",
    "- __Dictionaries__ (`dict`): Key-value pairs, e.g., `{ \"name\": \"Alice\", \"age\": 25 }`\n",
    "- __Tuples__ (`tuple`): Ordered, immutable collections, e.g., `(1, 2, 3)`\n",
    "- __Sets__ (`set`): Unordered collections of unique itens, e.g., `{1, 2, 3}`"
   ]
  },
  {
   "cell_type": "markdown",
   "id": "a3d74a0b-f28c-4d06-b830-60675577a1df",
   "metadata": {},
   "source": [
    "## Operators\n",
    "### Arithmetic Operators\n",
    "- Addition: `+`\n",
    "- Subtraction: `-`\n",
    "- Multiplication: `*`\n",
    "- Division `/`\n",
    "- Modules (remainder): `%`\n",
    "- Exponentiation: `**`\n",
    "- Floor Division: `//`"
   ]
  },
  {
   "cell_type": "markdown",
   "id": "2c83c568-6a53-4799-8650-dd95334fd010",
   "metadata": {},
   "source": [
    "### Comparison Operators\n",
    "- Equal to: `==`\n",
    "- Not equal to: `!=`\n",
    "- Greater than: `>`\n",
    "- Less than: `<`\n",
    "- Greater than or equal to: `>=`\n",
    "- Less than or equal to: `<=`"
   ]
  },
  {
   "cell_type": "markdown",
   "id": "b7eabcc5-d796-4d15-bfa9-3bee961eb2cb",
   "metadata": {},
   "source": [
    "### Logical Operators\n",
    "- And: `and`\n",
    "- Or: `or`\n",
    "- Not: `not`"
   ]
  },
  {
   "cell_type": "markdown",
   "id": "65deb899-1118-427e-b14c-344dc6e87408",
   "metadata": {},
   "source": [
    "## Control Flow\n",
    "### If Statements\n",
    "Used to execute code based on a condition."
   ]
  },
  {
   "cell_type": "markdown",
   "id": "85d6101a-ccb4-4ef1-af7d-ff293471a8b7",
   "metadata": {},
   "source": [
    "```\n",
    "# Example of an if statement\n",
    "age = 18\n",
    "if age >= 18:\n",
    "    print(\"You are an adult.\")\n",
    "else:\n",
    "    print(\"You are a minor.\")\n",
    "```"
   ]
  },
  {
   "cell_type": "markdown",
   "id": "36dc53e2-c0be-4c14-a435-d8c1e78ac7ed",
   "metadata": {},
   "source": [
    "### Loops\n",
    "Loops are used to repeat a block of code multiple times.\n",
    "#### For Loops\n",
    "Used for iterating over a sequence (like a list or a range). "
   ]
  },
  {
   "cell_type": "markdown",
   "id": "38358ec8-0175-4fe6-b05c-80d9e28f7b3f",
   "metadata": {},
   "source": [
    "```\n",
    "# For Loop example\n",
    "for i in range(5):\n",
    "    print(\"interation\", i)\n",
    "```"
   ]
  },
  {
   "cell_type": "markdown",
   "id": "9b362dd8-14c9-412a-9911-3bf4bbabd1f9",
   "metadata": {},
   "source": [
    "#### While Loops\n",
    "Repeats as long as a condition is true."
   ]
  },
  {
   "cell_type": "markdown",
   "id": "2d3956a9-cd87-46f3-a65a-ce7c15e78b5f",
   "metadata": {},
   "source": [
    "```\n",
    "# While Loop example\n",
    "count = 0\n",
    "while count < 5:\n",
    "    print(\"Count is\", count)\n",
    "    count += 1\n",
    "```"
   ]
  },
  {
   "cell_type": "markdown",
   "id": "36c39253-ad03-4a79-a899-248b936f1ed4",
   "metadata": {},
   "source": [
    "### Lists\n",
    "Lists are ordered, mutable collections of items."
   ]
  },
  {
   "cell_type": "markdown",
   "id": "1ea4ae8e-df15-411b-bccc-d33d2451903d",
   "metadata": {},
   "source": [
    "```\n",
    "# Creating a list\n",
    "fruits = [\"apple\", \"banana\", \"cherry\"]\n",
    "\n",
    "# Accessing List items\n",
    "print(fruits[0]) # Outputs: apple\n",
    "\n",
    "# Modifying List items\n",
    "fruits[1] = \"blueberry\"\n",
    "\n",
    "# Adding items to a list\n",
    "fruits.append(\"date\")\n",
    "\n",
    "# Removing items from a list\n",
    "fruits.remove(\"apple\")\n",
    "```"
   ]
  },
  {
   "cell_type": "markdown",
   "id": "80ddf305-3e98-4eea-9b72-775ad3eedbb8",
   "metadata": {},
   "source": [
    "###"
   ]
  }
 ],
 "metadata": {
  "kernelspec": {
   "display_name": "Python 3 (ipykernel)",
   "language": "python",
   "name": "python3"
  },
  "language_info": {
   "codemirror_mode": {
    "name": "ipython",
    "version": 3
   },
   "file_extension": ".py",
   "mimetype": "text/x-python",
   "name": "python",
   "nbconvert_exporter": "python",
   "pygments_lexer": "ipython3",
   "version": "3.12.1"
  }
 },
 "nbformat": 4,
 "nbformat_minor": 5
}

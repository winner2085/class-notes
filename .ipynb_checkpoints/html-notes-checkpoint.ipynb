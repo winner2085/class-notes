{
 "cells": [
  {
   "cell_type": "markdown",
   "id": "c06d755c-175b-453c-bf78-465e53a48871",
   "metadata": {},
   "source": [
    "# HTML Notes\n",
    "***"
   ]
  },
  {
   "cell_type": "markdown",
   "id": "8876a6fb-6aef-437a-949f-07949576658b",
   "metadata": {},
   "source": [
    "## 1. HTML Structure\n",
    "\n",
    "`HTML` is the standard language for creating web pages. It uses a series of elements represented by `tags` like this:"
   ]
  },
  {
   "cell_type": "markdown",
   "id": "f441919d-b924-45e9-9400-2d0b3e5463c0",
   "metadata": {},
   "source": [
    "```\n",
    "<!DOCTYPE html>\n",
    "<html>\n",
    "    <head>\n",
    "        <title>Page Title</title>\n",
    "    </head>\n",
    "    <body>\n",
    "        <h1>This is a Heading</h1>\n",
    "        <p>This is a paragraph</p>\n",
    "    </body>\n",
    "</html>\n",
    "```"
   ]
  },
  {
   "cell_type": "markdown",
   "id": "cb1e0bfa-b7fd-471a-a9ad-d6f755e14da5",
   "metadata": {},
   "source": [
    "### Key Elements\n",
    "1. `<!DOCTYPE html>` Declares the document as HTML5.\n",
    "2. `<html>` The root element of the HTML document.\n",
    "3. `<head>` Contains meta-information about the document (e.g., title, link to stylesheets).\n",
    "4. `<body>` Contains the content of the document."
   ]
  },
  {
   "cell_type": "markdown",
   "id": "30ef0f22-724c-418d-976a-159605504c28",
   "metadata": {},
   "source": [
    "## 2. Common HTML Tags\n",
    "***"
   ]
  },
  {
   "cell_type": "markdown",
   "id": "d1ebd793-cb20-4359-8984-958ddeb37d07",
   "metadata": {},
   "source": [
    "### Headings\n",
    "HTML offers six levels of headings, from `<h1>` to `<h6>`, where `<h1>` is the highest (or most important) level."
   ]
  },
  {
   "cell_type": "markdown",
   "id": "d5e28ef7-3380-4e73-abb3-92292df91856",
   "metadata": {},
   "source": [
    "```\n",
    "<h1>Main Heading</h1>\n",
    "<h2>Subheading</h2>\n",
    "<h3>Sub-subheading</h3>\n",
    "```"
   ]
  },
  {
   "cell_type": "markdown",
   "id": "563ae9b5-cc86-463a-a372-756f01aa1c26",
   "metadata": {},
   "source": [
    "### Paragraphs"
   ]
  },
  {
   "cell_type": "markdown",
   "id": "e6d33051-3916-4bd0-9dd9-ab08a8954edd",
   "metadata": {},
   "source": [
    "Paragraphs are created using the `<p>` tag."
   ]
  },
  {
   "cell_type": "markdown",
   "id": "929e0548-fcac-4a72-92d6-a2dd05e0d6f3",
   "metadata": {},
   "source": [
    "```\n",
    "<p>This is a paragraph</p>"
   ]
  },
  {
   "cell_type": "markdown",
   "id": "a306d161-d596-4c6c-b076-1f5741baf0ed",
   "metadata": {},
   "source": [
    "### Links\n",
    "Links are created with the `<a>` tag, which includes a `href` attribute to specify the URL."
   ]
  },
  {
   "cell_type": "markdown",
   "id": "bdd177b0-6e83-4a94-af2d-7e5996160214",
   "metadata": {},
   "source": [
    "```\n",
    "<a href=\"https://www.tuckahoeschools.org/\">Tuckahoe Home Page</a>"
   ]
  },
  {
   "cell_type": "markdown",
   "id": "6b7646ca-2719-4d59-8a40-d4e5f83c66c6",
   "metadata": {},
   "source": [
    "### Images\n",
    "Images are embedded using teh `<img>` tag with `src` and `alt` attributes."
   ]
  },
  {
   "cell_type": "markdown",
   "id": "40771daf-44be-44ff-b8f9-8a39ac210f6b",
   "metadata": {},
   "source": [
    "```\n",
    "<img src+\"https://preppykitchen.com/wp-content/uploads/2022/05/Naked-Cake-Recipe-Card.jpg\" alt=\"Image of vanilla cake with vanilla frosting and blueberries and strawberries on top\">"
   ]
  },
  {
   "cell_type": "markdown",
   "id": "ffb7a566-6db3-4c3f-86e1-9d24080f3671",
   "metadata": {},
   "source": [
    "### Lists\n",
    "There are two main types of lists: ordered `<ol>` and unordered `<ul>`. An unordered list will have dots or a decorator at the beginning of the list, while an ordered list will be numbered."
   ]
  },
  {
   "cell_type": "markdown",
   "id": "df908da3-43e3-403f-aaed-f97cb3e76d51",
   "metadata": {},
   "source": [
    "__Unordered List__\n",
    "```\n",
    "<ul>\n",
    "    <li>Spanish</li>\n",
    "    <li>English</li>\n",
    "    <li>German</li>\n",
    "</ul>"
   ]
  },
  {
   "cell_type": "markdown",
   "id": "8365ac56-0bf6-4d88-9bee-b846b76b60a8",
   "metadata": {},
   "source": [
    "__Ordered List__\n",
    "```\n",
    "<ol>\n",
    "    <li>First is the worst</li>\n",
    "    <li>Second is the best</li>\n",
    "    <li>Third is the one with the hairy chest(or treasure chest)</li>\n",
    "</ol>"
   ]
  },
  {
   "cell_type": "markdown",
   "id": "ec3906fa-cca8-4ec9-87d9-790f8c4a14d8",
   "metadata": {},
   "source": [
    "## 3. Attributes\n",
    "***"
   ]
  },
  {
   "cell_type": "markdown",
   "id": "0871d42c-b896-4565-9d57-7b3794907548",
   "metadata": {},
   "source": [
    "HTML elements can have `attributes`, which provide additional information about the element. `Attributes` are always defined in the opening tag and usually come in `name/value` pairs. There are many different types of `attributes` that can be applied to HTML tags."
   ]
  },
  {
   "cell_type": "markdown",
   "id": "397138a3-d11d-4cae-a28f-cd2176e865dd",
   "metadata": {},
   "source": [
    "__Example:__\n",
    "```\n",
    "<a href=\"https://google.com\" target=\"_blank\">Google</a>\n",
    "```\n",
    "`href` specifies the link's destination."
   ]
  },
  {
   "cell_type": "markdown",
   "id": "eeddccfb-338e-4192-9b2c-5b178de95d2b",
   "metadata": {},
   "source": [
    "`target=\"_blank\"` opens the link in a new tab."
   ]
  },
  {
   "cell_type": "markdown",
   "id": "287cda56-0629-4279-a06b-f7bfacb6f8e6",
   "metadata": {},
   "source": [
    "## 4. Divs & Spans\n",
    "***"
   ]
  },
  {
   "cell_type": "markdown",
   "id": "322da603-4ee2-4e04-8dc9-7837b2fbc7b7",
   "metadata": {},
   "source": [
    "`<div>` Defines a division or section in an HTML document. It's often used to group elements for styling or layout."
   ]
  },
  {
   "cell_type": "markdown",
   "id": "759bad7d-ca81-406f-9b5b-9c8ea04f9415",
   "metadata": {},
   "source": [
    "`<span>` An incline container used to group content for styling or scripting."
   ]
  },
  {
   "cell_type": "markdown",
   "id": "244caa29-677b-4ac9-aceb-ee7ae5b2c4af",
   "metadata": {},
   "source": [
    "__Example:__\n",
    "```\n",
    "<div>\n",
    "    <h1>Title</h1>\n",
    "    <p>This is inside a div.</p>\n",
    "</div>\n",
    "\n",
    "<span>This is inside a span</span>"
   ]
  },
  {
   "cell_type": "markdown",
   "id": "3db04328-5e16-4266-978a-6e350fcc1034",
   "metadata": {},
   "source": [
    "## 5. Forms\n",
    "***"
   ]
  },
  {
   "cell_type": "markdown",
   "id": "22aec0ac-c8ca-4281-be4d-5321c8ad52ef",
   "metadata": {},
   "source": [
    "HTML forms collect user input. A form usually contains `input`, `textarea`, `select`, and `button elements`."
   ]
  },
  {
   "cell_type": "markdown",
   "id": "04fa747e-968c-458c-a481-7f03b1539565",
   "metadata": {},
   "source": [
    "```\n",
    "<form action=\"/submit\" method=\"post\">\n",
    "    <label for=\"name\">Name:</label>\n",
    "    <input type=\"text\" id =\"name\" name=\"name\">\n",
    "    <input type=\"submit\" value=\"Submit\">\n",
    "</form>"
   ]
  },
  {
   "cell_type": "markdown",
   "id": "4e090c46-6d11-41fe-9a22-d308a89d1003",
   "metadata": {},
   "source": [
    "## Semantic HTML\n",
    "***"
   ]
  },
  {
   "cell_type": "markdown",
   "id": "8c59b998-3adf-411d-a49f-39e4a6cc2b78",
   "metadata": {},
   "source": [
    "`HTML5` introduced new semantic elements to provide better meaning to web pages. THis is for better code readability, accessability for those living with disabilities and many other benefits."
   ]
  },
  {
   "cell_type": "markdown",
   "id": "cb2c4490-cdd6-4dad-9334-00e68e632e19",
   "metadata": {},
   "source": [
    "`<header>` Defines a header section."
   ]
  },
  {
   "cell_type": "markdown",
   "id": "e6b37fc4-e99b-4d47-8443-2de54b89dc67",
   "metadata": {},
   "source": [
    "`<nav>` Defines a navigation bar."
   ]
  },
  {
   "cell_type": "markdown",
   "id": "9b81f766-f5e7-4938-8478-941978f5044c",
   "metadata": {},
   "source": [
    "`<section>` Defines a section in a document."
   ]
  },
  {
   "cell_type": "markdown",
   "id": "cb398cd8-0822-4d23-b6dc-03dca362e201",
   "metadata": {},
   "source": [
    "`<article>` Defines independent content."
   ]
  },
  {
   "cell_type": "markdown",
   "id": "f678afdd-6c01-43a3-bf7e-b9e72627ddbc",
   "metadata": {},
   "source": [
    "`<footer>` Defines a footer for a document or section."
   ]
  },
  {
   "cell_type": "markdown",
   "id": "f63fffb3-fdee-4029-813a-d2238b686e3e",
   "metadata": {},
   "source": [
    "__Examples of Semantic HTML__\n",
    "```\n",
    "<header>\n",
    "    <h1>Welcome to Erica's Website</h1>\n",
    "</header>\n",
    "\n",
    "<nav>\n",
    "    <a href=\"/home\">Home</a>\n",
    "    <a href+\"/about\">About</a>\n",
    "</nav>\n",
    "\n",
    "<section>\n",
    "    <article>\n",
    "        <h2>How To Be Amazing (Like Me)</h2>\n",
    "        <p>First you start by being born Erica. Then, you win.</p>\n",
    "    </article>\n",
    "</section>\n",
    "\n",
    "<footer>\n",
    "    <p>Don't forget! Like, share, subscribe, follow for extra awesome content for being amazing!</p>\n",
    "</footer>"
   ]
  }
 ],
 "metadata": {
  "kernelspec": {
   "display_name": "Python 3 (ipykernel)",
   "language": "python",
   "name": "python3"
  },
  "language_info": {
   "codemirror_mode": {
    "name": "ipython",
    "version": 3
   },
   "file_extension": ".py",
   "mimetype": "text/x-python",
   "name": "python",
   "nbconvert_exporter": "python",
   "pygments_lexer": "ipython3",
   "version": "3.12.1"
  }
 },
 "nbformat": 4,
 "nbformat_minor": 5
}

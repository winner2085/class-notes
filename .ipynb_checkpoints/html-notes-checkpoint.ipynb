{
 "cells": [
  {
   "cell_type": "markdown",
   "id": "c06d755c-175b-453c-bf78-465e53a48871",
   "metadata": {},
   "source": [
    "# HTML Notes\n",
    "***"
   ]
  },
  {
   "cell_type": "markdown",
   "id": "8876a6fb-6aef-437a-949f-07949576658b",
   "metadata": {},
   "source": [
    "## 1. HTML Structure\n",
    "\n",
    "`HTML` is the standard language for creating web pages. It uses a series of elements represented by `tags` like this:"
   ]
  },
  {
   "cell_type": "markdown",
   "id": "f441919d-b924-45e9-9400-2d0b3e5463c0",
   "metadata": {},
   "source": [
    "```\n",
    "<!DOCTYPE html>\n",
    "<html>\n",
    "    <head>\n",
    "        <title>Page Title</title>\n",
    "    </head>\n",
    "    <body>\n",
    "        <h1>This is a Heading</h1>\n",
    "        <p>This is a paragraph</p>\n",
    "    </body>\n",
    "</html>\n",
    "```"
   ]
  },
  {
   "cell_type": "markdown",
   "id": "cb1e0bfa-b7fd-471a-a9ad-d6f755e14da5",
   "metadata": {},
   "source": [
    "### Key Elements\n",
    "1. `<!DOCTYPE html>` Declares the document as HTML5.\n",
    "2. `<html>` The root element of the HTML document.\n",
    "3. `<head>` Contains meta-information about the document (e.g., title, link to stylesheets).\n",
    "4. `<body>` Contains the content of the document."
   ]
  },
  {
   "cell_type": "markdown",
   "id": "30ef0f22-724c-418d-976a-159605504c28",
   "metadata": {},
   "source": [
    "## 2. Common HTML Tags\n",
    "***"
   ]
  },
  {
   "cell_type": "markdown",
   "id": "d1ebd793-cb20-4359-8984-958ddeb37d07",
   "metadata": {},
   "source": [
    "### Headings\n",
    "HTML offers six levels of headings, from `<h1>` to `<h6>`, where `<h1>` is the highest (or most important) level."
   ]
  },
  {
   "cell_type": "markdown",
   "id": "d5e28ef7-3380-4e73-abb3-92292df91856",
   "metadata": {},
   "source": [
    "```\n",
    "<h1>Main Heading</h1>\n",
    "<h2>Subheading</h2>\n",
    "<h3>Sub-subheading</h3>\n",
    "```"
   ]
  },
  {
   "cell_type": "markdown",
   "id": "563ae9b5-cc86-463a-a372-756f01aa1c26",
   "metadata": {},
   "source": [
    "### Paragraphs"
   ]
  },
  {
   "cell_type": "markdown",
   "id": "e6d33051-3916-4bd0-9dd9-ab08a8954edd",
   "metadata": {},
   "source": [
    "Paragraphs are created using the `<p>` tag."
   ]
  },
  {
   "cell_type": "markdown",
   "id": "929e0548-fcac-4a72-92d6-a2dd05e0d6f3",
   "metadata": {},
   "source": [
    "```\n",
    "<p>This is a paragraph</p>"
   ]
  },
  {
   "cell_type": "markdown",
   "id": "a306d161-d596-4c6c-b076-1f5741baf0ed",
   "metadata": {},
   "source": [
    "### Links\n",
    "Links are created with the `<a>` tag, which includes a `href` attribute to specify the URL."
   ]
  },
  {
   "cell_type": "markdown",
   "id": "bdd177b0-6e83-4a94-af2d-7e5996160214",
   "metadata": {},
   "source": [
    "```\n",
    "<a href=\"https://www.tuckahoeschools.org/\">Tuckahoe Home Page</a>"
   ]
  },
  {
   "cell_type": "code",
   "execution_count": null,
   "id": "6f887713-25a5-4bba-bb5e-5747d89582a4",
   "metadata": {},
   "outputs": [],
   "source": []
  }
 ],
 "metadata": {
  "kernelspec": {
   "display_name": "Python 3 (ipykernel)",
   "language": "python",
   "name": "python3"
  },
  "language_info": {
   "codemirror_mode": {
    "name": "ipython",
    "version": 3
   },
   "file_extension": ".py",
   "mimetype": "text/x-python",
   "name": "python",
   "nbconvert_exporter": "python",
   "pygments_lexer": "ipython3",
   "version": "3.12.1"
  }
 },
 "nbformat": 4,
 "nbformat_minor": 5
}

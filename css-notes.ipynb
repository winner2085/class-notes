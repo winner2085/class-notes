{
 "cells": [
  {
   "cell_type": "markdown",
   "id": "ce69663e-f9f0-4aa7-8a98-079173c1b854",
   "metadata": {},
   "source": [
    "# CSS Notes\n",
    "***"
   ]
  },
  {
   "cell_type": "markdown",
   "id": "fa678b62-13ff-4377-9d11-16fb7e8fedc4",
   "metadata": {},
   "source": [
    "## 1. What is CSS?\n",
    "CSS (Cascading Style Sheets) is a language used to describe the presentation of a web page written in `HTML`. It controls the layout, colors, fonts, and overall visual apperance of webpages."
   ]
  },
  {
   "cell_type": "markdown",
   "id": "3fafb991-9fb0-4e1d-952d-84e47b527f4c",
   "metadata": {},
   "source": [
    "### CSS Syntax\n",
    "A CSS rule consists of a selector and a declaration block:"
   ]
  },
  {
   "cell_type": "markdown",
   "id": "eeacf887-f398-48a7-9114-3cd7dc266a64",
   "metadata": {},
   "source": [
    "```\n",
    "selector {\n",
    "    property: value;\n",
    "}\n",
    "```"
   ]
  },
  {
   "cell_type": "markdown",
   "id": "5b0afe70-8ccc-4b45-8a91-7f3ed6375904",
   "metadata": {},
   "source": [
    "1. __Selector:__ Specifies the HTML element(s) you want to style.\n",
    "2. __Property:__ The style attribute you want to change (e.g., color, font-size).\n",
    "3. __Value:__ The value of the property (e.g., blue, 16px)."
   ]
  },
  {
   "cell_type": "markdown",
   "id": "5e8cffdb-a01e-41ea-be94-3bc139580c03",
   "metadata": {},
   "source": [
    "#### Example:\n",
    "```\n",
    "p {\n",
    "    color: blue;\n",
    "    font-size: 16px;\n",
    "}\n",
    "```\n",
    "This styles all `<p>` elements to have blue text and a `font-size` of 16 pixels."
   ]
  },
  {
   "cell_type": "markdown",
   "id": "6894a759-594d-4ef4-bd81-b64747e2cb77",
   "metadata": {},
   "source": [
    "## 2. Adding CSS to HTML using External CSS\n",
    "***"
   ]
  },
  {
   "cell_type": "markdown",
   "id": "0bafb6c7-d67b-4569-9647-b9e001ffca25",
   "metadata": {},
   "source": [
    "### External CSS\n",
    "Uses an external `.css` file linked with the `<link>` tag.\n",
    "```\n",
    "<head>\n",
    "    <link rel=\"stylesheet\" href=\"style.css\">\n",
    "</head>\n",
    "```"
   ]
  },
  {
   "cell_type": "markdown",
   "id": "609879bb-663d-4488-97a3-0d13bced6a27",
   "metadata": {},
   "source": [
    "## 3. CSS Selectors\n",
    "***"
   ]
  },
  {
   "cell_type": "markdown",
   "id": "b5c224fb-5a01-4074-a88f-c81431e9cc6a",
   "metadata": {},
   "source": [
    "### Element Selector\n",
    "Selects all elements of a given type.\n",
    "```\n",
    "h1 {\n",
    "    color: red;\n",
    "}"
   ]
  },
  {
   "cell_type": "markdown",
   "id": "2a2e37b2-db1b-4e55-9507-fde92f7f18b9",
   "metadata": {},
   "source": [
    "### Class Selector\n",
    "Selects elements with a specific class attribute. Use a period `.` followed by the class name.\n",
    "```\n",
    ".intro {\n",
    "    font-size: 16px;\n",
    "}\n",
    "```\n",
    "A class selector must be paired with creating the class in an `html` file.\n",
    "```\n",
    "<p class=\"intro\">This is an introductory paragraph.</p>\n",
    "```"
   ]
  },
  {
   "cell_type": "markdown",
   "id": "94eab2cc-ffe0-4f06-ae2d-6031f05c5cb0",
   "metadata": {},
   "source": [
    "### ID Selector\n",
    "Selects an element with a specific `id` attribute. Use a hash `#` followed by the `id` name.\n",
    "```\n",
    "#main {\n",
    "    width: 960px;\n",
    "}\n",
    "```\n",
    "An `ID` selector must be paired with creating the `ID` in an `html` file. An ID is used to select a very specific html element. We can use them with classes to further differentiate among elements.\n",
    "```\n",
    "div id=\"main\">This is the main content area.</div>"
   ]
  },
  {
   "cell_type": "markdown",
   "id": "62218cf7-309c-4fd2-acdd-8b208f0c0244",
   "metadata": {},
   "source": [
    "### Universal Selector\n",
    "Selects all elements.\n",
    "```\n",
    "* {\n",
    "    margin: 0;\n",
    "    padding: 0;\n",
    "}\n",
    "```"
   ]
  },
  {
   "cell_type": "markdown",
   "id": "5a541cd9-7d95-495a-a50f-86d18b9a6284",
   "metadata": {},
   "source": [
    "### Grouping Selectors\n",
    "Applies the same styles to multiple selectors.\n",
    "```\n",
    "h1, h2, h3 {\n",
    "    color: navy;\n",
    "}"
   ]
  },
  {
   "cell_type": "markdown",
   "id": "a9d9bf17-2a93-4787-8d94-bf5192f49a64",
   "metadata": {},
   "source": [
    "## 4. Common CSS Properties\n",
    "***"
   ]
  },
  {
   "cell_type": "markdown",
   "id": "9341096a-23bb-4d24-b3b1-d9d2e63777a3",
   "metadata": {
    "jp-MarkdownHeadingCollapsed": true
   },
   "source": [
    "### Text Properties\n",
    "`color:` sets the color of a text.\n",
    "```\n",
    "p {\n",
    "    color: 333333;\n",
    "}\n",
    "```\n",
    "***"
   ]
  },
  {
   "cell_type": "markdown",
   "id": "5546f73d-323d-4c89-985e-457a4e058ec0",
   "metadata": {},
   "source": [
    "`font-size:` sets the size of the font.\n",
    "```\n",
    "p {\n",
    "    font-size: 14px;\n",
    "}\n",
    "```\n",
    "***\n",
    "`font-family:` specifies the font of the text.\n",
    "```\n",
    "p {\n",
    "    font-family: Arial, sans-serif;\n",
    "}\n",
    "```\n",
    "***\n",
    "`font-weight:` sets the weight (boldness) of the font.\n",
    "```\n",
    "p {\n",
    "    font-weight: bold;\n",
    "}\n",
    "```\n",
    "***\n",
    "`text-align:` aligns the text horizontally.\n",
    "```\n",
    "p {\n",
    "    text-align: center;\n",
    "}\n",
    "```\n",
    "***"
   ]
  },
  {
   "cell_type": "markdown",
   "id": "911df9ef-25c0-46bc-b433-9fc9e255858a",
   "metadata": {},
   "source": [
    "### Background Properties\n",
    "`background-color:` Sets the background color of an element.\n",
    "```\n",
    "body {\n",
    "    background-color: #f0f0f0;\n",
    "}\n",
    "```\n",
    "***\n",
    "`background-image:` sets a backround image for the element.\n",
    "```\n",
    "body {\n",
    "    background-image: url('background.jpg');\n",
    "}\n",
    "```"
   ]
  },
  {
   "cell_type": "markdown",
   "id": "4445625c-cc31-40bb-839c-a445c537c9ff",
   "metadata": {},
   "source": [
    "### Box Model Properties\n",
    "The CSS box model consists of margins, borders, padding, and the content area.<br>\n",
    "`width:` and `height:` set the size of the content area.\n",
    "```\n",
    "div {\n",
    "    width: 200px;\n",
    "    height: 100px;\n",
    "}\n",
    "```\n",
    "***\n",
    "`padding:` sets the space between the content and the border.\n",
    "```\n",
    "div {\n",
    "    padding: 10px;\n",
    "}\n",
    "```\n",
    "***\n",
    "`border:` sets the border around the element.\n",
    "```\n",
    "div {\n",
    "    border: 1px solid #000;\n",
    "}\n",
    "```\n",
    "***\n",
    "`margin:` sets the space outside the border.\n",
    "```\n",
    "div {\n",
    "    margin: 20px;\n",
    "}\n",
    "```\n",
    "***"
   ]
  },
  {
   "cell_type": "markdown",
   "id": "92e73243-faaf-4b90-b43c-5f0975033300",
   "metadata": {},
   "source": [
    "### Display and Visibility\n",
    "`display:` specifies the display behavior of an element.\n",
    "```\n",
    ".inline {\n",
    "    display: inline;\n",
    "}\n",
    "\n",
    ".block {\n",
    "    display: block;\n",
    "}\n",
    "\n",
    ".none {\n",
    "    display: none; /* Hides the element */\n",
    "}\n",
    "```\n",
    "***\n",
    "`visibility:` controls the visibility of the element.\n",
    "```\n",
    ".invisible {\n",
    "    visibility: hidden; /* Element takes up space but is not visible */\n",
    "}\n",
    "```\n",
    "***"
   ]
  },
  {
   "cell_type": "markdown",
   "id": "53b39d7a-cb68-4462-aa8b-fc05164cad0d",
   "metadata": {},
   "source": [
    "## 5. CSS Flexbox\n",
    "***\n",
    "Flexbox is a layout mode in CSS designed to provide a more efficient way to lay out, align, and distribute space among items in a container.\n",
    "### Setting Up a Flex Container\n",
    "```\n",
    ".container {\n",
    "    display: flex;\n",
    "}\n",
    "```\n",
    "***\n",
    "### Flex Direction\n",
    "`flex-direction:` specifies the direction of the `flex items`.\n",
    "```\n",
    ".container {\n",
    "    flex-direction: row; /* row, row-reverse, column, column-reverse */\n",
    "}\n",
    "```\n",
    "***\n",
    "### Align Items\n",
    "aligns items along the cross axis.\n",
    "```\n",
    ".container {\n",
    "    align-items: center; /* stretch, flex-start, flex-end, center, baseline */\n",
    "}\n",
    "```\n",
    "***\n",
    "### Flex Wrap\n",
    "Allows `flex items` to wrap onto multiple lines.\n",
    "```\n",
    ".container {\n",
    "    flex-wrap: wrap; /* nowrap, wrap-reverse */\n",
    "}\n",
    "```\n",
    "***\n",
    "### Flex Item Properties\n",
    "`flex-grow:` specifies how much a flex item will grow relative to the rest.\n",
    "```\n",
    ".item {\n",
    "    flex-grow: 1;\n",
    "}\n",
    "```\n",
    "***\n",
    "`flex-shrink:` specifies how much a flex item will shrink relative to the rest.\n",
    "```\n",
    ".item {\n",
    "    flex-shrink: 1;\n",
    "}\n",
    "```\n",
    "***"
   ]
  },
  {
   "cell_type": "markdown",
   "id": "dd329987-432d-44b0-95a3-662a6f095455",
   "metadata": {},
   "source": [
    "## Example Flexbox Layout\n",
    "### HTML:\n",
    "```\n",
    "<div class=\"container\">\n",
    "    <div class=\"item\">Item 1</div>\n",
    "    <div class=\"item\">Item 2</div>\n",
    "    <div class=\"item\">Item 3</div>\n",
    "</div>\n",
    "```\n",
    "### CSS:\n",
    "```\n",
    ".container {\n",
    "    display: flex;\n",
    "    flex-direction: row;\n",
    "    justify-content: space-between:\n",
    "    align items: center;\n",
    "}\n",
    "\n",
    ".item {\n",
    "    background-color: lightblue;\n",
    "    padding: 20px;\n",
    "    margin: 10px;\n",
    "    flex: 1;\n",
    "}\n",
    "```\n",
    "This creates a responsive layout where items are evenly spaced and aligned."
   ]
  }
 ],
 "metadata": {
  "kernelspec": {
   "display_name": "Python 3 (ipykernel)",
   "language": "python",
   "name": "python3"
  },
  "language_info": {
   "codemirror_mode": {
    "name": "ipython",
    "version": 3
   },
   "file_extension": ".py",
   "mimetype": "text/x-python",
   "name": "python",
   "nbconvert_exporter": "python",
   "pygments_lexer": "ipython3",
   "version": "3.12.1"
  }
 },
 "nbformat": 4,
 "nbformat_minor": 5
}
